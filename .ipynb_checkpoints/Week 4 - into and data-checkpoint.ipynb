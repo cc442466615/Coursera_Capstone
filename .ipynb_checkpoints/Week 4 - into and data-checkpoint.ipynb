{
 "cells": [
  {
   "cell_type": "markdown",
   "id": "620ccbe1",
   "metadata": {},
   "source": [
    "# Introduction\n",
    "\n",
    "## 1.1 Background\n",
    "Toronto is the capital city of Canada and is the most populous city with more than 2.7 million people in 2016. Toronto is divided into 6 major districts and more than 100 neighbours with their own characteristics. \n",
    "\n",
    "### 1.2 Problem\n",
    "Data around Toronto neighbourhood is widely available from multiple sources. The aim of this study is to find the best neighbourhood to open a restaurant in Toronto with consideration of the geolocation data and demographics data of each neighbourhood.\n",
    "\n",
    "### 1.3 Target Audience \n",
    "\n",
    "- New immigrat to Toronto\n",
    "- People who plans to move to Toronto\n",
    "\n",
    "# Data \n",
    "\n",
    "## 2.1 Data Sources\n",
    "This study is based on publicly available data in Internet with three key data sources as below. \n",
    "\n",
    "The first one is neighbourhood list in Toronto scrapped from Wikipedia using beautiful soup package. Data is available in table format. The following analysis is using this list as the basis for further information retrieval and analysis.\n",
    "\n",
    "The second one is geolocational data from ‘foursquare.com’ using API calls. Data are collected for each neighbourhood based on the list obtained as above. The aim of this search is to gather nearby places with a radius of 500. This data supports the analysis by identifying the most popular places in each neighbourhood.  \n",
    "\n",
    "The last one is neighbourhood demographic data is downloaded from ‘open.toronto.ca’. The Census of Population is held across Canada every 5 years and collects data about age and sex, families and households, language, immigration and internal migration, ethnocultural diversity, Aboriginal peoples, housing, education, income, and labour. City of Toronto Neighbourhood Profiles use this Census data to provide a portrait of the demographic, social and economic characteristics of the people and households in each City of Toronto neighbourhood. The profiles present selected highlights from the data, but these accompanying data files provide the full data set assembled for each neighbourhood. In this study, we use population density information to complement the analysis on popular places. \n",
    "\n",
    "## 2.2 Data Features \n",
    "\n",
    "In order to open a restaurant in Toronto, neighborhood geolational data is valuable to be explored. This includes the nearby places around an area and people stays within the target area. 2nd data source listed above helps to identify the nearby places and 3rd data sources add further details to complement the analysis.\n",
    "\n"
   ]
  },
  {
   "cell_type": "code",
   "execution_count": null,
   "id": "eac4e5ce",
   "metadata": {},
   "outputs": [],
   "source": []
  }
 ],
 "metadata": {
  "kernelspec": {
   "display_name": "Python 3",
   "language": "python",
   "name": "python3"
  },
  "language_info": {
   "codemirror_mode": {
    "name": "ipython",
    "version": 3
   },
   "file_extension": ".py",
   "mimetype": "text/x-python",
   "name": "python",
   "nbconvert_exporter": "python",
   "pygments_lexer": "ipython3",
   "version": "3.8.8"
  }
 },
 "nbformat": 4,
 "nbformat_minor": 5
}
